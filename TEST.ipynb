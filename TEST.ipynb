{
 "cells": [
  {
   "cell_type": "code",
   "execution_count": 1,
   "metadata": {},
   "outputs": [],
   "source": [
    "import numpy as np\n",
    "import cv2\n",
    "img = cv2.imread('./col.jpg')\n"
   ]
  },
  {
   "cell_type": "code",
   "execution_count": 2,
   "metadata": {},
   "outputs": [
    {
     "name": "stdout",
     "output_type": "stream",
     "text": [
      "559 825\n",
      "(559, 825, 3)\n"
     ]
    }
   ],
   "source": [
    "# 图像大小\n",
    "height, width = img.shape[:2]\n",
    "print(height,width)\n",
    "# 生成网格点\n",
    "x, y = np.meshgrid(np.arange(width), np.arange(height))\n",
    "pixel_coords = np.stack([x, y, np.ones_like(x)], axis=-1)\n",
    "print(pixel_coords.shape)\n",
    "\n",
    "\n",
    "# print(pixel_coords[:,-1,:])"
   ]
  },
  {
   "cell_type": "code",
   "execution_count": 3,
   "metadata": {},
   "outputs": [
    {
     "name": "stdout",
     "output_type": "stream",
     "text": [
      "(559, 825, 3)\n",
      "(559, 825, 3)\n"
     ]
    }
   ],
   "source": [
    "# 相机内参\n",
    "f = 500\n",
    "K = np.array([[f, 0, width/2], [0, f, height/2], [0, 0, 1]])\n",
    "# cam_ray = np.matmul(np.linalg.inv(K), pixel_coords)\n",
    "\n",
    "K_inv = np.linalg.inv(K)\n",
    "# np.matmul(K_inv,pixel_coords)\n",
    "# 将 K_inv 广播到 (3, 3, height, width)\n",
    "# K_inv_bcast = np.tile(K_inv, (1, 1, pixel_coords.shape[1],pixel_coords.shape[0]))\n",
    "\n",
    "# print(K_inv_bcast.shape)\n",
    "# 计算每个像素的光线经过水面折射后的方向\"\n",
    "# print(np.array([0,0,0]).shape)\n",
    "# cam_ray = np.matmul(K_inv_bcast, pixel_coords)\n",
    "# cam_ray = cam_ray / np.linalg.norm(cam_ray, axis=-1, keepdims=True)\n",
    "cam_ray = np.matmul(K_inv, pixel_coords.reshape(-1, 3).T).T.reshape(pixel_coords.shape)\n",
    "print(cam_ray.shape)\n",
    "\n",
    "# 相机坐标系： 对应像素的单位方向向量\n",
    "cam_ray_norm = cam_ray / np.linalg.norm(cam_ray, axis=-1, keepdims=True)\n",
    "print(cam_ray.shape)"
   ]
  },
  {
   "cell_type": "code",
   "execution_count": 4,
   "metadata": {},
   "outputs": [
    {
     "name": "stdout",
     "output_type": "stream",
     "text": [
      "(559, 825)\n",
      "(559, 825, 3)\n"
     ]
    }
   ],
   "source": [
    "# 计算折射角度\n",
    "air_refractive_index = 1.0\n",
    "water_refractive_index = 1.33\n",
    "sin_theta1 = cam_ray_norm[..., -1]\n",
    "print(sin_theta1.shape)\n",
    "\n",
    "sin_theta2 = air_refractive_index / water_refractive_index * sin_theta1\n",
    "\n",
    "# 水下部分光线的方向向量，即折射部分\n",
    "# refract_ray = (air_refractive_index / water_refractive_index) * cam_ray[..., :-1] + sin_theta2[..., None] * np.array([0, 0, 1])\n",
    "refract_ray = air_refractive_index / water_refractive_index * cam_ray\n",
    "print(refract_ray.shape)\n",
    "\n",
    "\n"
   ]
  },
  {
   "cell_type": "code",
   "execution_count": 5,
   "metadata": {},
   "outputs": [
    {
     "name": "stdout",
     "output_type": "stream",
     "text": [
      "(559, 825, 3)\n"
     ]
    }
   ],
   "source": [
    "refract_coords = np.matmul(K,refract_ray.reshape(-1,3).T).T.reshape(pixel_coords.shape)\n",
    "\n",
    "\n",
    "refract_coords = np.round(refract_coords).astype(int)\n",
    "print(refract_coords.shape)\n",
    "# # refract_coords = np.clip(refract_coords, 0, np.array([height-1, width-1]))\n",
    "# refracted_img = img[refract_coords[..., 1], refract_coords[..., 0]]\n",
    "\n",
    "# new_r = np.round(refract_coords).astype(int)\n",
    "\n",
    "new_r = np.clip(refract_coords, 0, np.array([width-1, height-1,1]))\n",
    "\n",
    "\n",
    "refracted_img = img[refract_coords[..., 1], refract_coords[..., 0]]\n",
    "\n"
   ]
  },
  {
   "cell_type": "code",
   "execution_count": 6,
   "metadata": {},
   "outputs": [
    {
     "data": {
      "text/plain": [
       "True"
      ]
     },
     "execution_count": 6,
     "metadata": {},
     "output_type": "execute_result"
    }
   ],
   "source": [
    "# 显示图片\n",
    "cv2.imwrite('./tmp.jpg',refracted_img)"
   ]
  },
  {
   "cell_type": "code",
   "execution_count": 7,
   "metadata": {},
   "outputs": [],
   "source": [
    "\n",
    "# # 计算每个像素的折射点\n",
    "# t = x\n",
    "# refract_coords = pixel_coords[..., :-1] + t[..., None] * refract_ray[..., :-1]\n",
    "\n",
    "# 双线性插值采样\n",
    "refract_coords = np.round(refract_coords).astype(int)\n",
    "# refract_coords = np.clip(refract_coords, 0, np.array([width-1, height-1]))\n",
    "# refracted_img = img[refract_coords[..., 1], refract_coords[..., 0]]"
   ]
  },
  {
   "cell_type": "code",
   "execution_count": null,
   "metadata": {},
   "outputs": [],
   "source": [
    "def refract_correct(img, water_refractive_index, f):\n",
    "    # 图像大小\n",
    "    height, width = img.shape[:2]\n",
    "\n",
    "    # 生成网格点\n",
    "    x, y = np.meshgrid(np.arange(width), np.arange(height))\n",
    "    pixel_coords = np.stack([x, y, np.ones_like(x)], axis=-1)\n",
    "\n",
    "    # 相机内参\n",
    "    K = np.array([[f, 0, width/2], [0, f, height/2], [0, 0, 1]])\n",
    "\n",
    "    # 计算每个像素的光线经过水面折射后的方向\n",
    "    cam_ray = np.linalg.inv(K) @ pixel_coords\n",
    "    cam_ray = cam_ray / np.linalg.norm(cam_ray, axis=-1, keepdims=True)\n",
    "    \n",
    "    # 计算折射角度\n",
    "    air_refractive_index = 1.0\n",
    "    cos_theta1 = -cam_ray[..., -1]\n",
    "    cos_theta2 = np.sqrt(1 - (air_refractive_index / water_refractive_index)**2 * (1 - cos_theta1**2))\n",
    "    \n",
    "    # 水下部分光线的方向向量，即折射部分\n",
    "    refract_ray = (air_refractive_index / water_refractive_index) * cam_ray[..., :-1] + cos_theta2[..., None] * np.array([0, 0, -1])\n",
    "    \n",
    "    # 计算每个像素的折射点\n",
    "    t = -cam_ray[..., -1] / refract_ray[..., -1]\n",
    "    refract_coords = pixel_coords[..., :-1] + t[..., None] * refract_ray[..., :-1]\n",
    "\n",
    "    # 双线性插值采样\n",
    "    refract_coords = np.round(refract_coords).astype(int)\n",
    "    refract_coords = np.clip(refract_coords, 0, np.array([width-1, height-1]))\n",
    "    refracted_img = img[refract_coords[..., 1], refract_coords[..., 0]]\n",
    "\n",
    "    return refracted_img\n"
   ]
  }
 ],
 "metadata": {
  "kernelspec": {
   "display_name": "common",
   "language": "python",
   "name": "python3"
  },
  "language_info": {
   "codemirror_mode": {
    "name": "ipython",
    "version": 3
   },
   "file_extension": ".py",
   "mimetype": "text/x-python",
   "name": "python",
   "nbconvert_exporter": "python",
   "pygments_lexer": "ipython3",
   "version": "3.9.12"
  },
  "orig_nbformat": 4,
  "vscode": {
   "interpreter": {
    "hash": "a329d76d81307e3f7c7f727f1bce50966b7a8937460884a22d09071bb4bbe000"
   }
  }
 },
 "nbformat": 4,
 "nbformat_minor": 2
}
